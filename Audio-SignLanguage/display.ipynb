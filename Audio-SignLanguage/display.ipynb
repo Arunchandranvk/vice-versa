{
 "cells": [
  {
   "cell_type": "code",
   "execution_count": 2,
   "metadata": {},
   "outputs": [],
   "source": [
    "import cv2\n",
    "import imageio\n",
    "\n",
    "def display_sign_gif():\n",
    "    gif_path = \"gifs/hello.gif\"  # Adjust path to where your hello.gif is stored\n",
    "    gif = imageio.mimread(gif_path)  # Load GIF frames\n",
    "    \n",
    "    for i, frame in enumerate(gif):\n",
    "        img = cv2.cvtColor(frame, cv2.COLOR_RGB2BGR)\n",
    "        cv2.imshow(\"Test GIF Display\", img)\n",
    "        if cv2.waitKey(200) & 0xFF == ord('q'):  # Wait and exit on 'q'\n",
    "            break\n",
    "\n",
    "    cv2.destroyAllWindows()\n",
    "\n",
    "display_sign_gif()\n",
    "\n"
   ]
  }
 ],
 "metadata": {
  "kernelspec": {
   "display_name": ".venv",
   "language": "python",
   "name": "python3"
  },
  "language_info": {
   "codemirror_mode": {
    "name": "ipython",
    "version": 3
   },
   "file_extension": ".py",
   "mimetype": "text/x-python",
   "name": "python",
   "nbconvert_exporter": "python",
   "pygments_lexer": "ipython3",
   "version": "3.11.7"
  }
 },
 "nbformat": 4,
 "nbformat_minor": 2
}
