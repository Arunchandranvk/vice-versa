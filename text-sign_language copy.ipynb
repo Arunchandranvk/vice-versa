{
 "cells": [
  {
   "cell_type": "code",
   "execution_count": 2,
   "metadata": {},
   "outputs": [
    {
     "ename": "ModuleNotFoundError",
     "evalue": "No module named 'PIL'",
     "output_type": "error",
     "traceback": [
      "\u001b[1;31m---------------------------------------------------------------------------\u001b[0m",
      "\u001b[1;31mModuleNotFoundError\u001b[0m                       Traceback (most recent call last)",
      "Cell \u001b[1;32mIn[2], line 1\u001b[0m\n\u001b[1;32m----> 1\u001b[0m \u001b[38;5;28;01mfrom\u001b[39;00m \u001b[38;5;21;01mPIL\u001b[39;00m \u001b[38;5;28;01mimport\u001b[39;00m Image\n\u001b[0;32m      2\u001b[0m \u001b[38;5;28;01mimport\u001b[39;00m \u001b[38;5;21;01mmatplotlib\u001b[39;00m\u001b[38;5;21;01m.\u001b[39;00m\u001b[38;5;21;01mpyplot\u001b[39;00m \u001b[38;5;28;01mas\u001b[39;00m \u001b[38;5;21;01mplt\u001b[39;00m\n",
      "\u001b[1;31mModuleNotFoundError\u001b[0m: No module named 'PIL'"
     ]
    }
   ],
   "source": [
    "from PIL import Image\n",
    "import matplotlib.pyplot as plt"
   ]
  },
  {
   "cell_type": "code",
   "execution_count": null,
   "metadata": {},
   "outputs": [
    {
     "ename": "",
     "evalue": "",
     "output_type": "error",
     "traceback": [
      "\u001b[1;31mRunning cells with 'Python 3.10.8' requires the ipykernel package.\n",
      "\u001b[1;31mRun the following command to install 'ipykernel' into the Python environment. \n",
      "\u001b[1;31mCommand: '\"c:/Program Files/Python310/python.exe\" -m pip install ipykernel -U --user --force-reinstall'"
     ]
    }
   ],
   "source": [
    "# Function to display images based on user input\n",
    "def show_images(user_input):\n",
    "    # Define valid image formats\n",
    "    valid_formats = ['png', 'jpg', 'jpeg']\n",
    "\n",
    "    # Create a subplot for each image\n",
    "    fig, axs = plt.subplots(1, len(user_input), figsize=(len(user_input) * 4, 4))\n",
    "\n",
    "    for i, char in enumerate(user_input):\n",
    "        if char.isalnum():\n",
    "            # Iterate through valid image formats\n",
    "            for img_format in valid_formats:\n",
    "                img_path = f\"Data1/{char.lower()}.{img_format}\"\n",
    "\n",
    "                try:\n",
    "                    img = Image.open(img_path)\n",
    "                    axs[i].imshow(img)\n",
    "                    axs[i].axis('off')  # Turn off axis for cleaner display\n",
    "                    break  # Break loop if image is found\n",
    "                except FileNotFoundError:\n",
    "                    pass  # Continue to the next format if file not found\n",
    "        elif char.isspace():\n",
    "            # Display space image\n",
    "            space_img_path = \"Data1/space.jpg\"\n",
    "            img = Image.open(space_img_path)\n",
    "            axs[i].imshow(img)\n",
    "            axs[i].axis('off')  # Turn off axis for cleaner display\n",
    "\n",
    "    plt.show()"
   ]
  },
  {
   "cell_type": "code",
   "execution_count": null,
   "metadata": {},
   "outputs": [
    {
     "ename": "",
     "evalue": "",
     "output_type": "error",
     "traceback": [
      "\u001b[1;31mRunning cells with 'Python 3.10.8' requires the ipykernel package.\n",
      "\u001b[1;31mRun the following command to install 'ipykernel' into the Python environment. \n",
      "\u001b[1;31mCommand: '\"c:/Program Files/Python310/python.exe\" -m pip install ipykernel -U --user --force-reinstall'"
     ]
    }
   ],
   "source": [
    "# Taking user input\n",
    "user_input = input(\"Enter a string: \")\n",
    "show_images(user_input)"
   ]
  }
 ],
 "metadata": {
  "kernelspec": {
   "display_name": "Python 3",
   "language": "python",
   "name": "python3"
  },
  "language_info": {
   "codemirror_mode": {
    "name": "ipython",
    "version": 3
   },
   "file_extension": ".py",
   "mimetype": "text/x-python",
   "name": "python",
   "nbconvert_exporter": "python",
   "pygments_lexer": "ipython3",
   "version": "3.10.8"
  }
 },
 "nbformat": 4,
 "nbformat_minor": 2
}
